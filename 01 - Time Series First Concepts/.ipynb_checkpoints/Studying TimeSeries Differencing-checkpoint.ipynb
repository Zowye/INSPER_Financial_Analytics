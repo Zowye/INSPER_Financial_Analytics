{
 "cells": [
  {
   "cell_type": "code",
   "execution_count": null,
   "id": "db2b09c9",
   "metadata": {},
   "outputs": [],
   "source": [
    "import pandas as pd\n",
    "import numpy as np\n",
    "import matplotlib.pyplot as plt\n",
    "import seaborn as sns\n",
    "from datetime import datetime\n",
    "from datetime import datetime\n",
    "import statsmodels.api as sm\n",
    "from random import randrange\n",
    "from random import random\n",
    "import seaborn as sns"
   ]
  },
  {
   "cell_type": "code",
   "execution_count": null,
   "id": "ec7e7b85",
   "metadata": {},
   "outputs": [],
   "source": [
    "from statsmodels.graphics.tsaplots import plot_acf\n",
    "from statsmodels.graphics.tsaplots import plot_pacf"
   ]
  },
  {
   "cell_type": "code",
   "execution_count": null,
   "id": "af9e7a6b",
   "metadata": {},
   "outputs": [],
   "source": [
    "import warnings\n",
    "warnings.filterwarnings('ignore')\n",
    "%config InlineBackend.figure_format = 'retina'"
   ]
  },
  {
   "cell_type": "markdown",
   "id": "5c55afc3",
   "metadata": {},
   "source": [
    "## Generating a Random Walk"
   ]
  },
  {
   "attachments": {
    "image.png": {
     "image/png": "[encoded data removed]"
    }
   },
   "cell_type": "markdown",
   "id": "ec2b64e2",
   "metadata": {},
   "source": [
    "![image.png](attachment:image.png)\n",
    "\n",
    "The value in a given time is equal to the last time (t-1) value + a random number called _error_"
   ]
  },
  {
   "cell_type": "code",
   "execution_count": null,
   "id": "6c2d677b",
   "metadata": {
    "scrolled": true
   },
   "outputs": [],
   "source": [
    "random_walk = list()\n",
    "MEAN = 10\n",
    "\n",
    "# First value...\n",
    "random_walk.append(MEAN + randrange(i)) \n",
    "\n",
    "for i in range(1,100):\n",
    "    signal = 1 if random() > 0.5 else -1\n",
    "    value = random_walk[i-1] + signal * randrange(10)\n",
    "    random_walk.append(value)\n",
    "    \n",
    "fig, ax = plt.subplots(ncols=1, figsize = (15,5))\n",
    "\n",
    "sns.lineplot(data=random_walk, ax=ax, linestyle='-', color='orange', linewidth=2);\n",
    "ax.spines['right'].set_visible(False)\n",
    "ax.spines['top'].set_visible(False)\n",
    "ax.grid(linestyle='--', alpha=0.3);\n",
    "plt.title(\"Random Walk with Drift\", fontsize=18);"
   ]
  },
  {
   "cell_type": "code",
   "execution_count": null,
   "id": "c71b38b2",
   "metadata": {},
   "outputs": [],
   "source": []
  },
  {
   "cell_type": "markdown",
   "id": "36372258",
   "metadata": {},
   "source": [
    "## Generating a Random Walk with Drift"
   ]
  },
  {
   "attachments": {
    "image-2.png": {
     "image/png": "[encoded data removed]"
    }
   },
   "cell_type": "markdown",
   "id": "498d66e6",
   "metadata": {},
   "source": [
    "![image-2.png](attachment:image-2.png)\n",
    "\n",
    "The value in a given time is equal to the last time (t-1) value + a random number called _error_"
   ]
  },
  {
   "cell_type": "code",
   "execution_count": null,
   "id": "e53bc2cd",
   "metadata": {
    "scrolled": false
   },
   "outputs": [],
   "source": [
    "random_walk = list()\n",
    "MEAN = 10\n",
    "C = 1.2\n",
    "\n",
    "# First value...\n",
    "random_walk.append(MEAN + randrange(i)) \n",
    "\n",
    "for i in range(1,100):\n",
    "    signal = 1 if random() > 0.5 else -1\n",
    "    value = random_walk[i-1] + signal * randrange(10) + C\n",
    "    random_walk.append(value)\n",
    "    \n",
    "fig, ax = plt.subplots(ncols=1, figsize = (15,6))\n",
    "\n",
    "sns.lineplot(data=random_walk, ax=ax, linestyle='-', color='orange', linewidth=2);\n",
    "ax.spines['right'].set_visible(False)\n",
    "ax.spines['top'].set_visible(False)\n",
    "ax.grid(linestyle='--', alpha=0.3);\n",
    "plt.suptitle(\"Random Walk with a Drift\",\n",
    "             fontsize=22,\n",
    "             fontweight='bold');\n",
    "plt.title(f\"A {'Negative' if (C < 0) else 'Positive'} drift of {C}\", fontsize=14);"
   ]
  },
  {
   "cell_type": "code",
   "execution_count": null,
   "id": "c45a5186",
   "metadata": {},
   "outputs": [],
   "source": []
  },
  {
   "cell_type": "markdown",
   "id": "4c655262",
   "metadata": {},
   "source": [
    "# Testing..."
   ]
  },
  {
   "cell_type": "code",
   "execution_count": null,
   "id": "9bdedbf2",
   "metadata": {},
   "outputs": [],
   "source": [
    "random_walk = list()\n",
    "MEAN = 10\n",
    "\n",
    "# First value...\n",
    "random_walk.append(MEAN + randrange(i)) \n",
    "\n",
    "# Second value...\n",
    "random_walk.append(MEAN + randrange(i)) \n",
    "\n",
    "# Third value...\n",
    "random_walk.append(MEAN + randrange(i)) \n",
    "\n",
    "for i in range(3,100):\n",
    "    signal = 1 if random() > 0.5 else -1\n",
    "    value = random_walk[i-3] + signal * randrange(10) + C\n",
    "    random_walk.append(value)\n",
    "    \n",
    "\n",
    "    \n",
    "fig, ax = plt.subplots(ncols=1, figsize = (15,6))\n",
    "\n",
    "sns.lineplot(data=random_walk, ax=ax, linestyle='-', color='orange', linewidth=2);\n",
    "ax.spines['right'].set_visible(False)\n",
    "ax.spines['top'].set_visible(False)\n",
    "ax.grid(linestyle='--', alpha=0.3);\n",
    "\n",
    "plt.suptitle(\"Random Walk with a Drift\",\n",
    "             fontsize=22,\n",
    "             fontweight='bold');\n",
    "plt.title(f\"A {'Negative' if (C < 0) else 'Positive'} drift of {C}\", fontsize=14);"
   ]
  },
  {
   "cell_type": "code",
   "execution_count": null,
   "id": "730b923f",
   "metadata": {},
   "outputs": [],
   "source": [
    "plot_acf(pd.Series(random_walk));"
   ]
  },
  {
   "cell_type": "code",
   "execution_count": null,
   "id": "d13c89ad",
   "metadata": {},
   "outputs": [],
   "source": []
  },
  {
   "cell_type": "code",
   "execution_count": null,
   "id": "1bcafc27",
   "metadata": {},
   "outputs": [],
   "source": []
  },
  {
   "cell_type": "code",
   "execution_count": null,
   "id": "e2aacdf7",
   "metadata": {},
   "outputs": [],
   "source": []
  },
  {
   "cell_type": "code",
   "execution_count": null,
   "id": "ecab8a68",
   "metadata": {},
   "outputs": [],
   "source": []
  },
  {
   "cell_type": "code",
   "execution_count": null,
   "id": "4d7edf89",
   "metadata": {},
   "outputs": [],
   "source": []
  }
 ],
 "metadata": {
  "kernelspec": {
   "display_name": "Python 3 (ipykernel)",
   "language": "python",
   "name": "python3"
  },
  "language_info": {
   "codemirror_mode": {
    "name": "ipython",
    "version": 3
   },
   "file_extension": ".py",
   "mimetype": "text/x-python",
   "name": "python",
   "nbconvert_exporter": "python",
   "pygments_lexer": "ipython3",
   "version": "3.9.7"
  }
 },
 "nbformat": 4,
 "nbformat_minor": 5
}
