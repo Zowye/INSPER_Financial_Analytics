{
 "cells": [
  {
   "cell_type": "code",
   "execution_count": 7,
   "metadata": {},
   "outputs": [],
   "source": [
    "# # run in first lines for installing\n",
    "# !pip install yfinance"
   ]
  },
  {
   "cell_type": "markdown",
   "metadata": {
    "id": "z7qT19kqUz0C"
   },
   "source": [
    "## Usando o pacote yfinance para capturar dados históricos"
   ]
  },
  {
   "cell_type": "code",
   "execution_count": 4,
   "metadata": {
    "executionInfo": {
     "elapsed": 5,
     "status": "ok",
     "timestamp": 1667569217431,
     "user": {
      "displayName": "Paloma Uribe",
      "userId": "10313167677140208241"
     },
     "user_tz": 180
    },
    "id": "UDU93-LZwySz"
   },
   "outputs": [],
   "source": [
    "import pandas as pd\n",
    "import yfinance as yf\n",
    "import matplotlib.pyplot as plt\n",
    "import numpy as np"
   ]
  },
  {
   "cell_type": "code",
   "execution_count": 5,
   "metadata": {
    "executionInfo": {
     "elapsed": 1268,
     "status": "ok",
     "timestamp": 1667569221737,
     "user": {
      "displayName": "Paloma Uribe",
      "userId": "10313167677140208241"
     },
     "user_tz": 180
    },
    "id": "IlGmzxyZw3px"
   },
   "outputs": [],
   "source": [
    "# Using yfinance to get Petrobras prices\n",
    "petro = yf.Ticker(\"PETR4.SA\")\n",
    "\n",
    "# get historical market data\n",
    "# hist = petro.history(period = \"5y\")\n",
    "\n",
    "# other way is determining a period\n",
    "hist = petro.history(start=\"2007-01-01\", end=\"2022-11-03\")  \n"
   ]
  },
  {
   "cell_type": "code",
   "execution_count": 6,
   "metadata": {
    "colab": {
     "base_uri": "https://localhost:8080/"
    },
    "executionInfo": {
     "elapsed": 1134,
     "status": "ok",
     "timestamp": 1667569223165,
     "user": {
      "displayName": "Paloma Uribe",
      "userId": "10313167677140208241"
     },
     "user_tz": 180
    },
    "id": "DoJOAM9WRvIy",
    "outputId": "d9b60dd8-6f7f-420b-bf69-6cbc46a0d3ad",
    "scrolled": true
   },
   "outputs": [
    {
     "data": {
      "text/plain": [
       "{'zip': '20031-912',\n",
       " 'sector': 'Energy',\n",
       " 'fullTimeEmployees': 45532,\n",
       " 'longBusinessSummary': 'Petróleo Brasileiro S.A. - Petrobras explores for, produces, and sells oil and gas in Brazil and internationally. The company operates through Exploration and Production; Refining, Transportation and Marketing; Gas and Power; and Corporate and Other Businesses segments. It engages in prospecting, drilling, refining, processing, trading, and transporting crude oil from producing onshore and offshore oil fields, and shale or other rocks, as well as oil products, natural gas, and other liquid hydrocarbons. The Exploration and Production segment explores, develops, and produces crude oil, natural gas liquids, and natural gas primarily for supplies to the domestic refineries. The Refining, Transportation and Marketing segment engages in the refining, logistics, transport, marketing, and trading of crude oil and oil products; exportation of ethanol; and extraction and processing of shale, as well as holding interests in petrochemical companies. The Gas and Power segment is involved in the logistic and trading of natural gas and electricity; transportation and trading of LNG; generation of electricity through thermoelectric power plants; holding interests in transportation and distribution of natural gas; and fertilizer production and natural gas processing business. The Corporate and Other Businesses segment produces biodiesel and its co-products, and ethanol; and distributes oil products. Petróleo Brasileiro S.A. - Petrobras was incorporated in 1953 and is headquartered in Rio de Janeiro, Brazil.',\n",
       " 'city': 'Rio De Janeiro',\n",
       " 'phone': '55 21 3224 4477',\n",
       " 'state': 'RJ',\n",
       " 'country': 'Brazil',\n",
       " 'companyOfficers': [],\n",
       " 'website': 'https://petrobras.com.br',\n",
       " 'maxAge': 1,\n",
       " 'address1': 'Avenida RepUblica do Chile, 65',\n",
       " 'industry': 'Oil & Gas Integrated',\n",
       " 'address2': 'Centro',\n",
       " 'ebitdaMargins': 0.54681,\n",
       " 'profitMargins': 0.29471,\n",
       " 'grossMargins': 0.52852,\n",
       " 'operatingCashflow': 239226994688,\n",
       " 'revenueGrowth': 0.421,\n",
       " 'operatingMargins': 0.44991,\n",
       " 'ebitda': 327459012608,\n",
       " 'targetLowPrice': 13,\n",
       " 'recommendationKey': 'hold',\n",
       " 'grossProfits': 219637000000,\n",
       " 'freeCashflow': 182716874752,\n",
       " 'targetMedianPrice': 39,\n",
       " 'currentPrice': 26.99,\n",
       " 'earningsGrowth': 0.48,\n",
       " 'currentRatio': 1.173,\n",
       " 'returnOnAssets': 0.1752,\n",
       " 'numberOfAnalystOpinions': 10,\n",
       " 'targetMeanPrice': 38.72,\n",
       " 'debtToEquity': 78.428,\n",
       " 'returnOnEquity': 0.47272998,\n",
       " 'targetHighPrice': 53,\n",
       " 'totalCash': 36687998976,\n",
       " 'totalDebt': 293403000832,\n",
       " 'totalRevenue': 598854991872,\n",
       " 'totalCashPerShare': 2.813,\n",
       " 'financialCurrency': 'BRL',\n",
       " 'revenuePerShare': 45.91,\n",
       " 'quickRatio': 0.489,\n",
       " 'recommendationMean': 2.6,\n",
       " 'exchange': 'SAO',\n",
       " 'shortName': 'PETROBRAS   PN      N2',\n",
       " 'longName': 'Petróleo Brasileiro S.A. - Petrobras',\n",
       " 'exchangeTimezoneName': 'America/Sao_Paulo',\n",
       " 'exchangeTimezoneShortName': 'BRST',\n",
       " 'isEsgPopulated': False,\n",
       " 'gmtOffSetMilliseconds': '-7200000',\n",
       " 'quoteType': 'EQUITY',\n",
       " 'symbol': 'PETR4.SA',\n",
       " 'messageBoardId': 'finmb_409268',\n",
       " 'market': 'br_market',\n",
       " 'annualHoldingsTurnover': None,\n",
       " 'enterpriseToRevenue': 1,\n",
       " 'beta3Year': None,\n",
       " 'enterpriseToEbitda': 1.829,\n",
       " '52WeekChange': -0.032234132,\n",
       " 'morningStarRiskRating': None,\n",
       " 'forwardEps': 10.26,\n",
       " 'revenueQuarterlyGrowth': None,\n",
       " 'sharesOutstanding': 5601970176,\n",
       " 'fundInceptionDate': None,\n",
       " 'annualReportExpenseRatio': None,\n",
       " 'totalAssets': None,\n",
       " 'bookValue': 28.557,\n",
       " 'sharesShort': None,\n",
       " 'sharesPercentSharesOut': None,\n",
       " 'fundFamily': None,\n",
       " 'lastFiscalYearEnd': 1640908800,\n",
       " 'heldPercentInstitutions': 0.33683,\n",
       " 'netIncomeToCommon': 176491003904,\n",
       " 'trailingEps': 13.54,\n",
       " 'lastDividendValue': 3.3489,\n",
       " 'SandP52WeekChange': -0.15513629,\n",
       " 'priceToBook': 0.9451273,\n",
       " 'heldPercentInsiders': 0.16073999,\n",
       " 'nextFiscalYearEnd': 1703980800,\n",
       " 'yield': None,\n",
       " 'mostRecentQuarter': 1664496000,\n",
       " 'shortRatio': None,\n",
       " 'sharesShortPreviousMonthDate': None,\n",
       " 'floatShares': 8268327853,\n",
       " 'beta': 1.330332,\n",
       " 'enterpriseValue': 599036526592,\n",
       " 'priceHint': 2,\n",
       " 'threeYearAverageReturn': None,\n",
       " 'lastSplitDate': 1209340800,\n",
       " 'lastSplitFactor': '2:1',\n",
       " 'legalType': None,\n",
       " 'lastDividendDate': 1669075200,\n",
       " 'morningStarOverallRating': None,\n",
       " 'earningsQuarterlyGrowth': 0.48,\n",
       " 'priceToSalesTrailing12Months': 0.62882096,\n",
       " 'dateShortInterest': None,\n",
       " 'pegRatio': 0.08,\n",
       " 'ytdReturn': None,\n",
       " 'forwardPE': 2.6306043,\n",
       " 'lastCapGain': None,\n",
       " 'shortPercentOfFloat': None,\n",
       " 'sharesShortPriorMonth': None,\n",
       " 'impliedSharesOutstanding': 0,\n",
       " 'category': None,\n",
       " 'fiveYearAverageReturn': None,\n",
       " 'previousClose': 26.12,\n",
       " 'regularMarketOpen': 25.8,\n",
       " 'twoHundredDayAverage': 31.68265,\n",
       " 'trailingAnnualDividendYield': 0.20229708,\n",
       " 'payoutRatio': 1.2551999,\n",
       " 'volume24Hr': None,\n",
       " 'regularMarketDayHigh': 27.36,\n",
       " 'navPrice': None,\n",
       " 'averageDailyVolume10Day': 144805300,\n",
       " 'regularMarketPreviousClose': 26.12,\n",
       " 'fiftyDayAverage': 31.6184,\n",
       " 'trailingAnnualDividendRate': 5.284,\n",
       " 'open': 25.8,\n",
       " 'toCurrency': None,\n",
       " 'averageVolume10days': 144805300,\n",
       " 'expireDate': None,\n",
       " 'algorithm': None,\n",
       " 'dividendRate': 10.08,\n",
       " 'exDividendDate': 1669075200,\n",
       " 'circulatingSupply': None,\n",
       " 'startDate': None,\n",
       " 'regularMarketDayLow': 25.7,\n",
       " 'currency': 'BRL',\n",
       " 'trailingPE': 1.993353,\n",
       " 'regularMarketVolume': 146364300,\n",
       " 'lastMarket': None,\n",
       " 'maxSupply': None,\n",
       " 'openInterest': None,\n",
       " 'marketCap': 376572575744,\n",
       " 'volumeAllCurrencies': None,\n",
       " 'strikePrice': None,\n",
       " 'averageVolume': 98131833,\n",
       " 'dayLow': 25.7,\n",
       " 'ask': 27.1,\n",
       " 'askSize': 0,\n",
       " 'volume': 146364300,\n",
       " 'fiftyTwoWeekHigh': 38.39,\n",
       " 'fromCurrency': None,\n",
       " 'fiveYearAvgDividendYield': None,\n",
       " 'fiftyTwoWeekLow': 25.61,\n",
       " 'bid': 26.96,\n",
       " 'tradeable': False,\n",
       " 'dividendYield': 0.3748,\n",
       " 'bidSize': 0,\n",
       " 'dayHigh': 27.36,\n",
       " 'coinMarketCapLink': None,\n",
       " 'regularMarketPrice': 26.99,\n",
       " 'preMarketPrice': None,\n",
       " 'logo_url': 'https://logo.clearbit.com/petrobras.com.br'}"
      ]
     },
     "execution_count": 6,
     "metadata": {},
     "output_type": "execute_result"
    }
   ],
   "source": [
    "# get stock info: some of the features of yfinance\n",
    "petro.info"
   ]
  },
  {
   "cell_type": "code",
   "execution_count": 8,
   "metadata": {
    "colab": {
     "base_uri": "https://localhost:8080/",
     "height": 450
    },
    "executionInfo": {
     "elapsed": 645,
     "status": "ok",
     "timestamp": 1667569225521,
     "user": {
      "displayName": "Paloma Uribe",
      "userId": "10313167677140208241"
     },
     "user_tz": 180
    },
    "id": "T7vluQcSxrVf",
    "outputId": "c6c53231-c3fc-4a3e-efcf-acf937122c0e"
   },
   "outputs": [
    {
     "data": {
      "text/html": [
       "<div>\n",
       "<style scoped>\n",
       "    .dataframe tbody tr th:only-of-type {\n",
       "        vertical-align: middle;\n",
       "    }\n",
       "\n",
       "    .dataframe tbody tr th {\n",
       "        vertical-align: top;\n",
       "    }\n",
       "\n",
       "    .dataframe thead th {\n",
       "        text-align: right;\n",
       "    }\n",
       "</style>\n",
       "<table border=\"1\" class=\"dataframe\">\n",
       "  <thead>\n",
       "    <tr style=\"text-align: right;\">\n",
       "      <th></th>\n",
       "      <th>Open</th>\n",
       "      <th>High</th>\n",
       "      <th>Low</th>\n",
       "      <th>Close</th>\n",
       "      <th>Volume</th>\n",
       "      <th>Dividends</th>\n",
       "      <th>Stock Splits</th>\n",
       "    </tr>\n",
       "    <tr>\n",
       "      <th>Date</th>\n",
       "      <th></th>\n",
       "      <th></th>\n",
       "      <th></th>\n",
       "      <th></th>\n",
       "      <th></th>\n",
       "      <th></th>\n",
       "      <th></th>\n",
       "    </tr>\n",
       "  </thead>\n",
       "  <tbody>\n",
       "    <tr>\n",
       "      <th>2007-01-02 00:00:00-02:00</th>\n",
       "      <td>9.881424</td>\n",
       "      <td>9.970357</td>\n",
       "      <td>9.833993</td>\n",
       "      <td>9.944665</td>\n",
       "      <td>10244800</td>\n",
       "      <td>0.225</td>\n",
       "      <td>0.0</td>\n",
       "    </tr>\n",
       "    <tr>\n",
       "      <th>2007-01-03 00:00:00-02:00</th>\n",
       "      <td>9.913044</td>\n",
       "      <td>9.960475</td>\n",
       "      <td>9.488142</td>\n",
       "      <td>9.642293</td>\n",
       "      <td>19898600</td>\n",
       "      <td>0.000</td>\n",
       "      <td>0.0</td>\n",
       "    </tr>\n",
       "    <tr>\n",
       "      <th>2007-01-04 00:00:00-02:00</th>\n",
       "      <td>9.584984</td>\n",
       "      <td>9.634391</td>\n",
       "      <td>9.367592</td>\n",
       "      <td>9.426881</td>\n",
       "      <td>21060200</td>\n",
       "      <td>0.000</td>\n",
       "      <td>0.0</td>\n",
       "    </tr>\n",
       "    <tr>\n",
       "      <th>2007-01-05 00:00:00-02:00</th>\n",
       "      <td>9.328067</td>\n",
       "      <td>9.484194</td>\n",
       "      <td>8.913047</td>\n",
       "      <td>9.140320</td>\n",
       "      <td>24864000</td>\n",
       "      <td>0.000</td>\n",
       "      <td>0.0</td>\n",
       "    </tr>\n",
       "    <tr>\n",
       "      <th>2007-01-08 00:00:00-02:00</th>\n",
       "      <td>9.189725</td>\n",
       "      <td>9.316208</td>\n",
       "      <td>9.051385</td>\n",
       "      <td>9.247038</td>\n",
       "      <td>19440200</td>\n",
       "      <td>0.000</td>\n",
       "      <td>0.0</td>\n",
       "    </tr>\n",
       "    <tr>\n",
       "      <th>...</th>\n",
       "      <td>...</td>\n",
       "      <td>...</td>\n",
       "      <td>...</td>\n",
       "      <td>...</td>\n",
       "      <td>...</td>\n",
       "      <td>...</td>\n",
       "      <td>...</td>\n",
       "    </tr>\n",
       "    <tr>\n",
       "      <th>2022-10-26 00:00:00-03:00</th>\n",
       "      <td>32.599998</td>\n",
       "      <td>33.529999</td>\n",
       "      <td>31.900000</td>\n",
       "      <td>32.709999</td>\n",
       "      <td>121334800</td>\n",
       "      <td>0.000</td>\n",
       "      <td>0.0</td>\n",
       "    </tr>\n",
       "    <tr>\n",
       "      <th>2022-10-27 00:00:00-03:00</th>\n",
       "      <td>32.810001</td>\n",
       "      <td>33.540001</td>\n",
       "      <td>32.669998</td>\n",
       "      <td>32.959999</td>\n",
       "      <td>111008800</td>\n",
       "      <td>0.000</td>\n",
       "      <td>0.0</td>\n",
       "    </tr>\n",
       "    <tr>\n",
       "      <th>2022-10-28 00:00:00-03:00</th>\n",
       "      <td>32.700001</td>\n",
       "      <td>33.119999</td>\n",
       "      <td>31.860001</td>\n",
       "      <td>32.570000</td>\n",
       "      <td>129745400</td>\n",
       "      <td>0.000</td>\n",
       "      <td>0.0</td>\n",
       "    </tr>\n",
       "    <tr>\n",
       "      <th>2022-10-31 00:00:00-03:00</th>\n",
       "      <td>30.610001</td>\n",
       "      <td>31.600000</td>\n",
       "      <td>29.160000</td>\n",
       "      <td>29.809999</td>\n",
       "      <td>262409400</td>\n",
       "      <td>0.000</td>\n",
       "      <td>0.0</td>\n",
       "    </tr>\n",
       "    <tr>\n",
       "      <th>2022-11-01 00:00:00-03:00</th>\n",
       "      <td>30.570000</td>\n",
       "      <td>30.670000</td>\n",
       "      <td>29.559999</td>\n",
       "      <td>29.860001</td>\n",
       "      <td>115944200</td>\n",
       "      <td>0.000</td>\n",
       "      <td>0.0</td>\n",
       "    </tr>\n",
       "  </tbody>\n",
       "</table>\n",
       "<p>3927 rows × 7 columns</p>\n",
       "</div>"
      ],
      "text/plain": [
       "                                Open       High        Low      Close  \\\n",
       "Date                                                                    \n",
       "2007-01-02 00:00:00-02:00   9.881424   9.970357   9.833993   9.944665   \n",
       "2007-01-03 00:00:00-02:00   9.913044   9.960475   9.488142   9.642293   \n",
       "2007-01-04 00:00:00-02:00   9.584984   9.634391   9.367592   9.426881   \n",
       "2007-01-05 00:00:00-02:00   9.328067   9.484194   8.913047   9.140320   \n",
       "2007-01-08 00:00:00-02:00   9.189725   9.316208   9.051385   9.247038   \n",
       "...                              ...        ...        ...        ...   \n",
       "2022-10-26 00:00:00-03:00  32.599998  33.529999  31.900000  32.709999   \n",
       "2022-10-27 00:00:00-03:00  32.810001  33.540001  32.669998  32.959999   \n",
       "2022-10-28 00:00:00-03:00  32.700001  33.119999  31.860001  32.570000   \n",
       "2022-10-31 00:00:00-03:00  30.610001  31.600000  29.160000  29.809999   \n",
       "2022-11-01 00:00:00-03:00  30.570000  30.670000  29.559999  29.860001   \n",
       "\n",
       "                              Volume  Dividends  Stock Splits  \n",
       "Date                                                           \n",
       "2007-01-02 00:00:00-02:00   10244800      0.225           0.0  \n",
       "2007-01-03 00:00:00-02:00   19898600      0.000           0.0  \n",
       "2007-01-04 00:00:00-02:00   21060200      0.000           0.0  \n",
       "2007-01-05 00:00:00-02:00   24864000      0.000           0.0  \n",
       "2007-01-08 00:00:00-02:00   19440200      0.000           0.0  \n",
       "...                              ...        ...           ...  \n",
       "2022-10-26 00:00:00-03:00  121334800      0.000           0.0  \n",
       "2022-10-27 00:00:00-03:00  111008800      0.000           0.0  \n",
       "2022-10-28 00:00:00-03:00  129745400      0.000           0.0  \n",
       "2022-10-31 00:00:00-03:00  262409400      0.000           0.0  \n",
       "2022-11-01 00:00:00-03:00  115944200      0.000           0.0  \n",
       "\n",
       "[3927 rows x 7 columns]"
      ]
     },
     "execution_count": 8,
     "metadata": {},
     "output_type": "execute_result"
    }
   ],
   "source": [
    "hist"
   ]
  },
  {
   "cell_type": "code",
   "execution_count": 9,
   "metadata": {
    "executionInfo": {
     "elapsed": 6,
     "status": "ok",
     "timestamp": 1667569227057,
     "user": {
      "displayName": "Paloma Uribe",
      "userId": "10313167677140208241"
     },
     "user_tz": 180
    },
    "id": "HlkcbU-vwLLj"
   },
   "outputs": [],
   "source": [
    "# creating log returns \n",
    "log_prices = np.log(hist[\"Close\"])\n",
    "log_returns = log_prices.diff().dropna()\n",
    "\n",
    "# another way without using first differences and log\n",
    "log_returns2 = hist[\"Close\"].pct_change().dropna() "
   ]
  },
  {
   "cell_type": "code",
   "execution_count": 10,
   "metadata": {
    "colab": {
     "base_uri": "https://localhost:8080/"
    },
    "executionInfo": {
     "elapsed": 3,
     "status": "ok",
     "timestamp": 1667569228591,
     "user": {
      "displayName": "Paloma Uribe",
      "userId": "10313167677140208241"
     },
     "user_tz": 180
    },
    "id": "zwXc6SzQzVzc",
    "outputId": "33d4908b-df95-423a-ba5a-ed177a499880"
   },
   "outputs": [
    {
     "data": {
      "text/plain": [
       "Date\n",
       "2007-01-02 00:00:00-02:00    2.297036\n",
       "2007-01-03 00:00:00-02:00    2.266159\n",
       "2007-01-04 00:00:00-02:00    2.243565\n",
       "2007-01-05 00:00:00-02:00    2.212695\n",
       "2007-01-08 00:00:00-02:00    2.224303\n",
       "                               ...   \n",
       "2022-10-26 00:00:00-03:00    3.487681\n",
       "2022-10-27 00:00:00-03:00    3.495295\n",
       "2022-10-28 00:00:00-03:00    3.483392\n",
       "2022-10-31 00:00:00-03:00    3.394844\n",
       "2022-11-01 00:00:00-03:00    3.396520\n",
       "Name: Close, Length: 3927, dtype: float64"
      ]
     },
     "execution_count": 10,
     "metadata": {},
     "output_type": "execute_result"
    }
   ],
   "source": [
    "log_prices"
   ]
  },
  {
   "cell_type": "code",
   "execution_count": 11,
   "metadata": {
    "colab": {
     "base_uri": "https://localhost:8080/"
    },
    "executionInfo": {
     "elapsed": 7,
     "status": "ok",
     "timestamp": 1667569230542,
     "user": {
      "displayName": "Paloma Uribe",
      "userId": "10313167677140208241"
     },
     "user_tz": 180
    },
    "id": "oucdT6_SzWw4",
    "outputId": "3be01e7a-a434-424c-c258-781e83cec4e0"
   },
   "outputs": [
    {
     "data": {
      "text/plain": [
       "Date\n",
       "2007-01-03 00:00:00-02:00   -0.030877\n",
       "2007-01-04 00:00:00-02:00   -0.022594\n",
       "2007-01-05 00:00:00-02:00   -0.030870\n",
       "2007-01-08 00:00:00-02:00    0.011608\n",
       "2007-01-09 00:00:00-02:00   -0.031039\n",
       "                               ...   \n",
       "2022-10-26 00:00:00-03:00   -0.024760\n",
       "2022-10-27 00:00:00-03:00    0.007614\n",
       "2022-10-28 00:00:00-03:00   -0.011903\n",
       "2022-10-31 00:00:00-03:00   -0.088548\n",
       "2022-11-01 00:00:00-03:00    0.001676\n",
       "Name: Close, Length: 3926, dtype: float64"
      ]
     },
     "execution_count": 11,
     "metadata": {},
     "output_type": "execute_result"
    }
   ],
   "source": [
    "log_returns"
   ]
  },
  {
   "cell_type": "code",
   "execution_count": 12,
   "metadata": {
    "colab": {
     "base_uri": "https://localhost:8080/"
    },
    "executionInfo": {
     "elapsed": 4,
     "status": "ok",
     "timestamp": 1667569232387,
     "user": {
      "displayName": "Paloma Uribe",
      "userId": "10313167677140208241"
     },
     "user_tz": 180
    },
    "id": "zxY8cgv6onZi",
    "outputId": "be19458a-334d-4f38-fe3e-f7c657a14ecb"
   },
   "outputs": [
    {
     "data": {
      "text/plain": [
       "Date\n",
       "2007-01-03 00:00:00-02:00   -0.030405\n",
       "2007-01-04 00:00:00-02:00   -0.022340\n",
       "2007-01-05 00:00:00-02:00   -0.030398\n",
       "2007-01-08 00:00:00-02:00    0.011676\n",
       "2007-01-09 00:00:00-02:00   -0.030562\n",
       "                               ...   \n",
       "2022-10-26 00:00:00-03:00   -0.024456\n",
       "2022-10-27 00:00:00-03:00    0.007643\n",
       "2022-10-28 00:00:00-03:00   -0.011833\n",
       "2022-10-31 00:00:00-03:00   -0.084741\n",
       "2022-11-01 00:00:00-03:00    0.001677\n",
       "Name: Close, Length: 3926, dtype: float64"
      ]
     },
     "execution_count": 12,
     "metadata": {},
     "output_type": "execute_result"
    }
   ],
   "source": [
    "log_returns2"
   ]
  },
  {
   "cell_type": "code",
   "execution_count": 13,
   "metadata": {
    "colab": {
     "base_uri": "https://localhost:8080/",
     "height": 281
    },
    "executionInfo": {
     "elapsed": 722,
     "status": "ok",
     "timestamp": 1667569234323,
     "user": {
      "displayName": "Paloma Uribe",
      "userId": "10313167677140208241"
     },
     "user_tz": 180
    },
    "id": "nGRw7zEQ14A6",
    "outputId": "837c7691-2d5b-41b7-99ab-e5534d61c327"
   },
   "outputs": [
    {
     "data": {
      "image/png": "[encoded data removed]",
      "text/plain": [
       "<Figure size 432x288 with 1 Axes>"
      ]
     },
     "metadata": {
      "needs_background": "light"
     },
     "output_type": "display_data"
    }
   ],
   "source": [
    "# ploting the log returns\n",
    "plt.plot(log_returns);\n",
    "plt.title(\"Plot of Daily log-Returns of PETR4\");\n",
    "plt.ylabel(\"Percentage (%)\");"
   ]
  },
  {
   "cell_type": "code",
   "execution_count": 14,
   "metadata": {
    "colab": {
     "base_uri": "https://localhost:8080/",
     "height": 281
    },
    "executionInfo": {
     "elapsed": 3,
     "status": "ok",
     "timestamp": 1667569235245,
     "user": {
      "displayName": "Paloma Uribe",
      "userId": "10313167677140208241"
     },
     "user_tz": 180
    },
    "id": "UtoGthjCjYbc",
    "outputId": "fd19d382-a293-499b-db45-e1db1a2bc0aa"
   },
   "outputs": [
    {
     "data": {
      "image/png": "[encoded data removed]",
      "text/plain": [
       "<Figure size 432x288 with 1 Axes>"
      ]
     },
     "metadata": {
      "needs_background": "light"
     },
     "output_type": "display_data"
    }
   ],
   "source": [
    "# ploting the prices\n",
    "plt.plot(log_prices);\n",
    "plt.title(\"Plot of Daily log-Prices of PETR4\");\n",
    "plt.ylabel(\"Log\");"
   ]
  },
  {
   "cell_type": "markdown",
   "metadata": {
    "id": "RiiAa6MxSoR5"
   },
   "source": [
    "## Volatility modeling in Python\n",
    "Vamos usar o pacote arch para estimar os modelos. Também podemos encontrar algumas postagens em que os modelos GARCH são estimados usando otimização (estilo solver), dado que são modelos determinísticos da volatilidade.\n",
    "Para mais detalhes do pacote:\n",
    "https://arch.readthedocs.io/en/latest/univariate/introduction.html\n"
   ]
  },
  {
   "cell_type": "code",
   "execution_count": 15,
   "metadata": {
    "colab": {
     "base_uri": "https://localhost:8080/"
    },
    "executionInfo": {
     "elapsed": 1224,
     "status": "ok",
     "timestamp": 1667569238209,
     "user": {
      "displayName": "Paloma Uribe",
      "userId": "10313167677140208241"
     },
     "user_tz": 180
    },
    "id": "MfTkV-hmUQox",
    "outputId": "bfac36e5-b2d9-4e0e-f12c-78329532c80f"
   },
   "outputs": [
    {
     "name": "stdout",
     "output_type": "stream",
     "text": [
      "ADF Statistic: -1.6311966949754657\n",
      "p-value: 0.46686437740982195\n",
      "Critical Values:\n",
      "\t1%: -3.432019708703093\n",
      "\t5%: -2.8622777859108606\n",
      "\t10%: -2.567162732014412\n"
     ]
    }
   ],
   "source": [
    "# analyzing the ACF of returns and quadratic returns\n",
    "# !pip install statsmodels\n",
    "from statsmodels.tsa.stattools import adfuller\n",
    "from statsmodels.tsa.seasonal import seasonal_decompose\n",
    "from statsmodels.graphics.tsaplots import plot_acf, plot_pacf\n",
    "\n",
    "# ADF test: unit root\n",
    "adf = adfuller(log_prices)\n",
    "print('ADF Statistic: {}'.format(adf[0]))\n",
    "print('p-value: {}'.format(adf[1]))\n",
    "print('Critical Values:')\n",
    "for key, value in adf[4].items():\n",
    "    print('\\t{}: {}'.format(key, value))   "
   ]
  },
  {
   "cell_type": "code",
   "execution_count": 16,
   "metadata": {
    "colab": {
     "base_uri": "https://localhost:8080/",
     "height": 281
    },
    "executionInfo": {
     "elapsed": 503,
     "status": "ok",
     "timestamp": 1667569239026,
     "user": {
      "displayName": "Paloma Uribe",
      "userId": "10313167677140208241"
     },
     "user_tz": 180
    },
    "id": "-CpuAxeoVl5f",
    "outputId": "dc7dad3b-e55e-4fcc-8c8d-fc5f3c8337b2"
   },
   "outputs": [
    {
     "data": {
      "image/png": "[encoded data removed]",
      "text/plain": [
       "<Figure size 432x288 with 1 Axes>"
      ]
     },
     "metadata": {
      "needs_background": "light"
     },
     "output_type": "display_data"
    }
   ],
   "source": [
    "# ACF of log_prices\n",
    "plot_acf(log_prices, lags=60);     "
   ]
  },
  {
   "cell_type": "code",
   "execution_count": 17,
   "metadata": {
    "colab": {
     "base_uri": "https://localhost:8080/",
     "height": 281
    },
    "executionInfo": {
     "elapsed": 5,
     "status": "ok",
     "timestamp": 1667569240587,
     "user": {
      "displayName": "Paloma Uribe",
      "userId": "10313167677140208241"
     },
     "user_tz": 180
    },
    "id": "a3iVFGrjVqU2",
    "outputId": "610c3862-83f1-4819-a7b2-d6e7fdde6411"
   },
   "outputs": [
    {
     "data": {
      "image/png": "[encoded data removed]",
      "text/plain": [
       "<Figure size 432x288 with 1 Axes>"
      ]
     },
     "metadata": {
      "needs_background": "light"
     },
     "output_type": "display_data"
    }
   ],
   "source": [
    "# ACF of log_returns\n",
    "plot_acf(log_returns, lags=60);     "
   ]
  },
  {
   "cell_type": "code",
   "execution_count": 18,
   "metadata": {
    "colab": {
     "base_uri": "https://localhost:8080/",
     "height": 281
    },
    "executionInfo": {
     "elapsed": 820,
     "status": "ok",
     "timestamp": 1667569242308,
     "user": {
      "displayName": "Paloma Uribe",
      "userId": "10313167677140208241"
     },
     "user_tz": 180
    },
    "id": "pp0dwtgJVy-n",
    "outputId": "ccbee09c-f125-4f6f-e9b5-767fae90bc72"
   },
   "outputs": [
    {
     "data": {
      "image/png": "[encoded data removed]",
      "text/plain": [
       "<Figure size 432x288 with 1 Axes>"
      ]
     },
     "metadata": {
      "needs_background": "light"
     },
     "output_type": "display_data"
    }
   ],
   "source": [
    "# ACF of quadratic returns: see the conditional homoscedasticity \n",
    "plot_acf(log_returns**2, lags=60);     "
   ]
  },
  {
   "cell_type": "code",
   "execution_count": 19,
   "metadata": {
    "colab": {
     "base_uri": "https://localhost:8080/"
    },
    "executionInfo": {
     "elapsed": 7052,
     "status": "ok",
     "timestamp": 1667569289308,
     "user": {
      "displayName": "Paloma Uribe",
      "userId": "10313167677140208241"
     },
     "user_tz": 180
    },
    "id": "VSGxykJsj2aC",
    "outputId": "99c7c5c7-ac26-483e-f9f5-4acc791fe4af"
   },
   "outputs": [
    {
     "name": "stderr",
     "output_type": "stream",
     "text": [
      "WARNING: Ignoring invalid distribution -tatsmodels (c:\\users\\caio.cabral\\anaconda3\\lib\\site-packages)\n",
      "WARNING: Ignoring invalid distribution -tatsmodels (c:\\users\\caio.cabral\\anaconda3\\lib\\site-packages)\n",
      "WARNING: Ignoring invalid distribution -tatsmodels (c:\\users\\caio.cabral\\anaconda3\\lib\\site-packages)\n",
      "WARNING: Ignoring invalid distribution -tatsmodels (c:\\users\\caio.cabral\\anaconda3\\lib\\site-packages)\n",
      "WARNING: Ignoring invalid distribution -tatsmodels (c:\\users\\caio.cabral\\anaconda3\\lib\\site-packages)\n",
      "WARNING: Ignoring invalid distribution -tatsmodels (c:\\users\\caio.cabral\\anaconda3\\lib\\site-packages)\n",
      "WARNING: Ignoring invalid distribution -tatsmodels (c:\\users\\caio.cabral\\anaconda3\\lib\\site-packages)\n",
      "WARNING: Ignoring invalid distribution -tatsmodels (c:\\users\\caio.cabral\\anaconda3\\lib\\site-packages)\n"
     ]
    }
   ],
   "source": [
    "# run first line for installing the library\n",
    "!pip install -q arch\n",
    "from arch import arch_model\n"
   ]
  },
  {
   "cell_type": "code",
   "execution_count": 20,
   "metadata": {
    "colab": {
     "base_uri": "https://localhost:8080/"
    },
    "executionInfo": {
     "elapsed": 427,
     "status": "ok",
     "timestamp": 1667569289733,
     "user": {
      "displayName": "Paloma Uribe",
      "userId": "10313167677140208241"
     },
     "user_tz": 180
    },
    "id": "7p_46BA8WMbD",
    "outputId": "458383ba-b831-4843-da41-6dd94cd316f1"
   },
   "outputs": [
    {
     "name": "stdout",
     "output_type": "stream",
     "text": [
      "                      Constant Mean - ARCH Model Results                      \n",
      "==============================================================================\n",
      "Dep. Variable:                  Close   R-squared:                       0.000\n",
      "Mean Model:             Constant Mean   Adj. R-squared:                  0.000\n",
      "Vol Model:                       ARCH   Log-Likelihood:                8796.48\n",
      "Distribution:                  Normal   AIC:                          -17565.0\n",
      "Method:            Maximum Likelihood   BIC:                          -17477.1\n",
      "                                        No. Observations:                 3926\n",
      "Date:                Fri, Nov 11 2022   Df Residuals:                     3925\n",
      "Time:                        18:56:57   Df Model:                            1\n",
      "                                 Mean Model                                 \n",
      "============================================================================\n",
      "                 coef    std err          t      P>|t|      95.0% Conf. Int.\n",
      "----------------------------------------------------------------------------\n",
      "mu         8.1393e-04  3.916e-04      2.079  3.765e-02 [4.645e-05,1.581e-03]\n",
      "                               Volatility Model                              \n",
      "=============================================================================\n",
      "                 coef    std err          t      P>|t|       95.0% Conf. Int.\n",
      "-----------------------------------------------------------------------------\n",
      "omega      2.3897e-04  3.729e-05      6.409  1.463e-10  [1.659e-04,3.121e-04]\n",
      "alpha[1]       0.1329  5.618e-02      2.365  1.802e-02    [2.277e-02,  0.243]\n",
      "alpha[2]       0.0887  2.527e-02      3.510  4.487e-04    [3.916e-02,  0.138]\n",
      "alpha[3]       0.0615  2.723e-02      2.258  2.392e-02    [8.127e-03,  0.115]\n",
      "alpha[4]       0.0936  2.790e-02      3.356  7.906e-04    [3.896e-02,  0.148]\n",
      "alpha[5]       0.0777  2.453e-02      3.168  1.535e-03    [2.963e-02,  0.126]\n",
      "alpha[6]       0.0731  2.990e-02      2.444  1.453e-02    [1.446e-02,  0.132]\n",
      "alpha[7]       0.0580  2.383e-02      2.433  1.496e-02    [1.128e-02,  0.105]\n",
      "alpha[8]       0.0280  3.105e-02      0.901      0.367 [-3.286e-02,8.883e-02]\n",
      "alpha[9]       0.0216  3.083e-02      0.700      0.484 [-3.883e-02,8.203e-02]\n",
      "alpha[10]      0.0440  2.640e-02      1.667  9.544e-02 [-7.723e-03,9.575e-02]\n",
      "alpha[11]      0.0141  1.837e-02      0.769      0.442 [-2.187e-02,5.013e-02]\n",
      "alpha[12]      0.0291  2.479e-02      1.173      0.241 [-1.951e-02,7.765e-02]\n",
      "=============================================================================\n",
      "\n",
      "Covariance estimator: robust\n"
     ]
    }
   ],
   "source": [
    "# creating a ARCH(12) model with constant mean\n",
    "garch = arch_model(log_returns, vol='ARCH', p=12, rescale=False).fit(disp='off')\n",
    "print(garch.summary())"
   ]
  },
  {
   "cell_type": "code",
   "execution_count": 21,
   "metadata": {
    "colab": {
     "base_uri": "https://localhost:8080/"
    },
    "executionInfo": {
     "elapsed": 662,
     "status": "ok",
     "timestamp": 1667569290392,
     "user": {
      "displayName": "Paloma Uribe",
      "userId": "10313167677140208241"
     },
     "user_tz": 180
    },
    "id": "KuS4ecWNWFnP",
    "outputId": "399110a0-0231-4533-bdb2-1f4caef07e00"
   },
   "outputs": [
    {
     "name": "stdout",
     "output_type": "stream",
     "text": [
      "                     Constant Mean - GARCH Model Results                      \n",
      "==============================================================================\n",
      "Dep. Variable:                  Close   R-squared:                       0.000\n",
      "Mean Model:             Constant Mean   Adj. R-squared:                  0.000\n",
      "Vol Model:                      GARCH   Log-Likelihood:                8802.94\n",
      "Distribution:                  Normal   AIC:                          -17597.9\n",
      "Method:            Maximum Likelihood   BIC:                          -17572.8\n",
      "                                        No. Observations:                 3926\n",
      "Date:                Fri, Nov 11 2022   Df Residuals:                     3925\n",
      "Time:                        18:56:57   Df Model:                            1\n",
      "                                  Mean Model                                 \n",
      "=============================================================================\n",
      "                 coef    std err          t      P>|t|       95.0% Conf. Int.\n",
      "-----------------------------------------------------------------------------\n",
      "mu         6.6569e-04  4.116e-04      1.617      0.106 [-1.411e-04,1.472e-03]\n",
      "                              Volatility Model                              \n",
      "============================================================================\n",
      "                 coef    std err          t      P>|t|      95.0% Conf. Int.\n",
      "----------------------------------------------------------------------------\n",
      "omega      1.7380e-05  6.592e-12  2.637e+06      0.000 [1.738e-05,1.738e-05]\n",
      "alpha[1]       0.1000  2.147e-02      4.658  3.194e-06   [5.792e-02,  0.142]\n",
      "beta[1]        0.8800  1.785e-02     49.293      0.000     [  0.845,  0.915]\n",
      "============================================================================\n",
      "\n",
      "Covariance estimator: robust\n"
     ]
    }
   ],
   "source": [
    "# creating a GARCH(1,1) model with constant mean\n",
    "garch = arch_model(log_returns, vol='GARCH', p=1, q=1, rescale=False).fit(disp='off')\n",
    "print(garch.summary())"
   ]
  },
  {
   "cell_type": "code",
   "execution_count": 22,
   "metadata": {
    "colab": {
     "base_uri": "https://localhost:8080/"
    },
    "executionInfo": {
     "elapsed": 40,
     "status": "ok",
     "timestamp": 1667569290392,
     "user": {
      "displayName": "Paloma Uribe",
      "userId": "10313167677140208241"
     },
     "user_tz": 180
    },
    "id": "UnW1IcRaYfJx",
    "outputId": "6033eb61-9e14-4b22-8509-1d82bea3f179"
   },
   "outputs": [
    {
     "name": "stdout",
     "output_type": "stream",
     "text": [
      "                           AR - GARCH Model Results                           \n",
      "==============================================================================\n",
      "Dep. Variable:                  Close   R-squared:                       0.001\n",
      "Mean Model:                        AR   Adj. R-squared:                  0.000\n",
      "Vol Model:                      GARCH   Log-Likelihood:                8801.85\n",
      "Distribution:                  Normal   AIC:                          -17593.7\n",
      "Method:            Maximum Likelihood   BIC:                          -17562.3\n",
      "                                        No. Observations:                 3925\n",
      "Date:                Fri, Nov 11 2022   Df Residuals:                     3923\n",
      "Time:                        18:56:57   Df Model:                            2\n",
      "                                  Mean Model                                 \n",
      "=============================================================================\n",
      "                 coef    std err          t      P>|t|       95.0% Conf. Int.\n",
      "-----------------------------------------------------------------------------\n",
      "Const      6.8584e-04  4.153e-04      1.651  9.866e-02 [-1.282e-04,1.500e-03]\n",
      "Close[1]      -0.0283  1.721e-02     -1.642      0.101 [-6.198e-02,5.472e-03]\n",
      "                              Volatility Model                              \n",
      "============================================================================\n",
      "                 coef    std err          t      P>|t|      95.0% Conf. Int.\n",
      "----------------------------------------------------------------------------\n",
      "omega      1.7367e-05  6.545e-12  2.653e+06      0.000 [1.737e-05,1.737e-05]\n",
      "alpha[1]       0.1000  2.160e-02      4.629  3.667e-06   [5.766e-02,  0.142]\n",
      "beta[1]        0.8800  1.795e-02     49.016      0.000     [  0.845,  0.915]\n",
      "============================================================================\n",
      "\n",
      "Covariance estimator: robust\n"
     ]
    }
   ],
   "source": [
    "# creating a GARCH(1,1) model with AR(1) mean\n",
    "garch = arch_model(log_returns,mean='ARX', lags=1, vol='GARCH', p=1, q=1, rescale=False).fit(disp='off')\n",
    "print(garch.summary())"
   ]
  },
  {
   "cell_type": "code",
   "execution_count": 23,
   "metadata": {
    "colab": {
     "base_uri": "https://localhost:8080/"
    },
    "executionInfo": {
     "elapsed": 5,
     "status": "ok",
     "timestamp": 1667569293394,
     "user": {
      "displayName": "Paloma Uribe",
      "userId": "10313167677140208241"
     },
     "user_tz": 180
    },
    "id": "QNcIyzBeVx7i",
    "outputId": "6cdae4c9-08b7-4fce-a8e4-f7c7221f88ed"
   },
   "outputs": [
    {
     "name": "stdout",
     "output_type": "stream",
     "text": [
      "                       Zero Mean - GARCH Model Results                        \n",
      "==============================================================================\n",
      "Dep. Variable:                  Close   R-squared:                       0.000\n",
      "Mean Model:                 Zero Mean   Adj. R-squared:                  0.000\n",
      "Vol Model:                      GARCH   Log-Likelihood:                8801.29\n",
      "Distribution:                  Normal   AIC:                          -17596.6\n",
      "Method:            Maximum Likelihood   BIC:                          -17577.8\n",
      "                                        No. Observations:                 3926\n",
      "Date:                Fri, Nov 11 2022   Df Residuals:                     3926\n",
      "Time:                        18:56:57   Df Model:                            0\n",
      "                              Volatility Model                              \n",
      "============================================================================\n",
      "                 coef    std err          t      P>|t|      95.0% Conf. Int.\n",
      "----------------------------------------------------------------------------\n",
      "omega      1.7382e-05  6.641e-12  2.617e+06      0.000 [1.738e-05,1.738e-05]\n",
      "alpha[1]       0.1000  2.140e-02      4.674  2.954e-06   [5.807e-02,  0.142]\n",
      "beta[1]        0.8800  1.776e-02     49.536      0.000     [  0.845,  0.915]\n",
      "============================================================================\n",
      "\n",
      "Covariance estimator: robust\n"
     ]
    }
   ],
   "source": [
    "# creating a GARCH(1,1) model zero mean\n",
    "garch = arch_model(log_returns,mean='Zero', vol='GARCH', p=1, q=1, rescale=False).fit(disp='off')\n",
    "print(garch.summary())"
   ]
  },
  {
   "cell_type": "code",
   "execution_count": 24,
   "metadata": {
    "colab": {
     "base_uri": "https://localhost:8080/"
    },
    "executionInfo": {
     "elapsed": 685,
     "status": "ok",
     "timestamp": 1667569295760,
     "user": {
      "displayName": "Paloma Uribe",
      "userId": "10313167677140208241"
     },
     "user_tz": 180
    },
    "id": "OEZDY8RPaM3U",
    "outputId": "594623d5-e439-4e57-b554-5d3b9b1bc302"
   },
   "outputs": [
    {
     "name": "stdout",
     "output_type": "stream",
     "text": [
      "                       Constant Mean - AVGARCH Model Results                        \n",
      "====================================================================================\n",
      "Dep. Variable:                        Close   R-squared:                       0.000\n",
      "Mean Model:                   Constant Mean   Adj. R-squared:                  0.000\n",
      "Vol Model:                          AVGARCH   Log-Likelihood:                8973.76\n",
      "Distribution:      Standardized Student's t   AIC:                          -17937.5\n",
      "Method:                  Maximum Likelihood   BIC:                          -17906.1\n",
      "                                              No. Observations:                 3926\n",
      "Date:                      Fri, Nov 11 2022   Df Residuals:                     3925\n",
      "Time:                              18:56:57   Df Model:                            1\n",
      "                                  Mean Model                                 \n",
      "=============================================================================\n",
      "                 coef    std err          t      P>|t|       95.0% Conf. Int.\n",
      "-----------------------------------------------------------------------------\n",
      "mu         7.0737e-04  3.613e-04      1.958  5.024e-02 [-7.411e-07,1.415e-03]\n",
      "                              Volatility Model                              \n",
      "============================================================================\n",
      "                 coef    std err          t      P>|t|      95.0% Conf. Int.\n",
      "----------------------------------------------------------------------------\n",
      "omega      5.9787e-04  1.929e-04      3.099  1.941e-03 [2.198e-04,9.760e-04]\n",
      "alpha[1]       0.0903  1.258e-02      7.174  7.272e-13   [6.561e-02,  0.115]\n",
      "beta[1]        0.9097  1.549e-02     58.715      0.000     [  0.879,  0.940]\n",
      "                              Distribution                              \n",
      "========================================================================\n",
      "                 coef    std err          t      P>|t|  95.0% Conf. Int.\n",
      "------------------------------------------------------------------------\n",
      "nu             5.6079      0.511     10.971  5.270e-28 [  4.606,  6.610]\n",
      "========================================================================\n",
      "\n",
      "Covariance estimator: robust\n"
     ]
    }
   ],
   "source": [
    " # creating a GARCH(1,1) model with constant mean and t-Student errors\n",
    "garch = arch_model(log_returns,\n",
    "                   vol='GARCH',\n",
    "                   power=1.0,\n",
    "                   dist='StudentsT',\n",
    "                   rescale='False').fit(disp='off')\n",
    "print(garch.summary())"
   ]
  },
  {
   "cell_type": "code",
   "execution_count": 25,
   "metadata": {
    "colab": {
     "base_uri": "https://localhost:8080/"
    },
    "executionInfo": {
     "elapsed": 1134,
     "status": "ok",
     "timestamp": 1667569300168,
     "user": {
      "displayName": "Paloma Uribe",
      "userId": "10313167677140208241"
     },
     "user_tz": 180
    },
    "id": "RglLPBqQcAF8",
    "outputId": "c4939fbd-4191-4364-b9b1-4ace6af502cc"
   },
   "outputs": [
    {
     "name": "stdout",
     "output_type": "stream",
     "text": [
      "                     Constant Mean - TARCH/ZARCH Model Results                      \n",
      "====================================================================================\n",
      "Dep. Variable:                        Close   R-squared:                       0.000\n",
      "Mean Model:                   Constant Mean   Adj. R-squared:                  0.000\n",
      "Vol Model:                      TARCH/ZARCH   Log-Likelihood:                5100.75\n",
      "Distribution:      Standardized Student's t   AIC:                          -10189.5\n",
      "Method:                  Maximum Likelihood   BIC:                          -10151.8\n",
      "                                              No. Observations:                 3926\n",
      "Date:                      Fri, Nov 11 2022   Df Residuals:                     3925\n",
      "Time:                              18:56:58   Df Model:                            1\n",
      "                                  Mean Model                                  \n",
      "==============================================================================\n",
      "                 coef    std err          t      P>|t|        95.0% Conf. Int.\n",
      "------------------------------------------------------------------------------\n",
      "mu            -0.0174  3.191e-04    -54.478      0.000 [-1.801e-02,-1.676e-02]\n",
      "                              Volatility Model                              \n",
      "============================================================================\n",
      "                 coef    std err          t      P>|t|      95.0% Conf. Int.\n",
      "----------------------------------------------------------------------------\n",
      "omega          0.0808  2.750e-03     29.396 6.193e-190 [7.544e-02,8.621e-02]\n",
      "alpha[1]       0.3296  8.206e-02      4.016  5.920e-05     [  0.169,  0.490]\n",
      "gamma[1]       0.5241      0.269      1.945  5.177e-02  [-4.018e-03,  1.052]\n",
      "beta[1]        0.1441  3.953e-03     36.443 8.745e-291     [  0.136,  0.152]\n",
      "                              Distribution                              \n",
      "========================================================================\n",
      "                 coef    std err          t      P>|t|  95.0% Conf. Int.\n",
      "------------------------------------------------------------------------\n",
      "nu            25.1363  7.413e-02    339.106      0.000 [ 24.991, 25.282]\n",
      "========================================================================\n",
      "\n",
      "Covariance estimator: robust\n"
     ]
    }
   ],
   "source": [
    " # creating a GARCH(1,1) model with constant mean, t-Student errors and asymmetric shocks (GJR-GARCH)\n",
    "garch = arch_model(log_returns,\n",
    "                   vol='GARCH',\n",
    "                   p=1,\n",
    "                   o=1,\n",
    "                   q=1,\n",
    "                   power=1.0,\n",
    "                   dist='StudentsT',\n",
    "                   rescale='False').fit(disp='off')\n",
    "print(garch.summary())"
   ]
  },
  {
   "cell_type": "markdown",
   "metadata": {
    "id": "NCEfB-Hc26ck"
   },
   "source": [
    "## Forecasting volatility\n",
    "\n",
    "https://arch.readthedocs.io/en/latest/univariate/forecasting.html\n"
   ]
  },
  {
   "cell_type": "code",
   "execution_count": 26,
   "metadata": {
    "colab": {
     "base_uri": "https://localhost:8080/"
    },
    "executionInfo": {
     "elapsed": 821,
     "status": "ok",
     "timestamp": 1667569361809,
     "user": {
      "displayName": "Paloma Uribe",
      "userId": "10313167677140208241"
     },
     "user_tz": 180
    },
    "id": "jzEeGMRo24yE",
    "outputId": "de87d682-9757-48bf-a274-681a97828ca0"
   },
   "outputs": [
    {
     "name": "stderr",
     "output_type": "stream",
     "text": [
      "C:\\Users\\caio.cabral\\Anaconda3\\lib\\site-packages\\arch\\__future__\\_utility.py:11: FutureWarning: \n",
      "The default for reindex is True. After September 2021 this will change to\n",
      "False. Set reindex to True or False to silence this message. Alternatively,\n",
      "you can use the import comment\n",
      "\n",
      "from arch.__future__ import reindexing\n",
      "\n",
      "to globally set reindex to True and silence this warning.\n",
      "\n",
      "  warnings.warn(\n"
     ]
    },
    {
     "data": {
      "text/html": [
       "<div>\n",
       "<style scoped>\n",
       "    .dataframe tbody tr th:only-of-type {\n",
       "        vertical-align: middle;\n",
       "    }\n",
       "\n",
       "    .dataframe tbody tr th {\n",
       "        vertical-align: top;\n",
       "    }\n",
       "\n",
       "    .dataframe thead th {\n",
       "        text-align: right;\n",
       "    }\n",
       "</style>\n",
       "<table border=\"1\" class=\"dataframe\">\n",
       "  <thead>\n",
       "    <tr style=\"text-align: right;\">\n",
       "      <th></th>\n",
       "      <th>h.1</th>\n",
       "    </tr>\n",
       "    <tr>\n",
       "      <th>Date</th>\n",
       "      <th></th>\n",
       "    </tr>\n",
       "  </thead>\n",
       "  <tbody>\n",
       "    <tr>\n",
       "      <th>2007-01-03 00:00:00-02:00</th>\n",
       "      <td>NaN</td>\n",
       "    </tr>\n",
       "    <tr>\n",
       "      <th>2007-01-04 00:00:00-02:00</th>\n",
       "      <td>NaN</td>\n",
       "    </tr>\n",
       "    <tr>\n",
       "      <th>2007-01-05 00:00:00-02:00</th>\n",
       "      <td>NaN</td>\n",
       "    </tr>\n",
       "    <tr>\n",
       "      <th>2007-01-08 00:00:00-02:00</th>\n",
       "      <td>NaN</td>\n",
       "    </tr>\n",
       "    <tr>\n",
       "      <th>2007-01-09 00:00:00-02:00</th>\n",
       "      <td>NaN</td>\n",
       "    </tr>\n",
       "    <tr>\n",
       "      <th>...</th>\n",
       "      <td>...</td>\n",
       "    </tr>\n",
       "    <tr>\n",
       "      <th>2022-10-26 00:00:00-03:00</th>\n",
       "      <td>NaN</td>\n",
       "    </tr>\n",
       "    <tr>\n",
       "      <th>2022-10-27 00:00:00-03:00</th>\n",
       "      <td>NaN</td>\n",
       "    </tr>\n",
       "    <tr>\n",
       "      <th>2022-10-28 00:00:00-03:00</th>\n",
       "      <td>NaN</td>\n",
       "    </tr>\n",
       "    <tr>\n",
       "      <th>2022-10-31 00:00:00-03:00</th>\n",
       "      <td>NaN</td>\n",
       "    </tr>\n",
       "    <tr>\n",
       "      <th>2022-11-01 00:00:00-03:00</th>\n",
       "      <td>0.011996</td>\n",
       "    </tr>\n",
       "  </tbody>\n",
       "</table>\n",
       "<p>3926 rows × 1 columns</p>\n",
       "</div>"
      ],
      "text/plain": [
       "                                h.1\n",
       "Date                               \n",
       "2007-01-03 00:00:00-02:00       NaN\n",
       "2007-01-04 00:00:00-02:00       NaN\n",
       "2007-01-05 00:00:00-02:00       NaN\n",
       "2007-01-08 00:00:00-02:00       NaN\n",
       "2007-01-09 00:00:00-02:00       NaN\n",
       "...                             ...\n",
       "2022-10-26 00:00:00-03:00       NaN\n",
       "2022-10-27 00:00:00-03:00       NaN\n",
       "2022-10-28 00:00:00-03:00       NaN\n",
       "2022-10-31 00:00:00-03:00       NaN\n",
       "2022-11-01 00:00:00-03:00  0.011996\n",
       "\n",
       "[3926 rows x 1 columns]"
      ]
     },
     "execution_count": 26,
     "metadata": {},
     "output_type": "execute_result"
    }
   ],
   "source": [
    "forecast = garch.forecast(horizon=1)\n",
    "forecast.variance"
   ]
  },
  {
   "cell_type": "code",
   "execution_count": null,
   "metadata": {
    "id": "QW-ddB_X3qJt"
   },
   "outputs": [],
   "source": []
  }
 ],
 "metadata": {
  "colab": {
   "authorship_tag": "ABX9TyNExztc7+Ekfv4cHf77UWBw",
   "provenance": []
  },
  "kernelspec": {
   "display_name": "Python 3 (ipykernel)",
   "language": "python",
   "name": "python3"
  },
  "language_info": {
   "codemirror_mode": {
    "name": "ipython",
    "version": 3
   },
   "file_extension": ".py",
   "mimetype": "text/x-python",
   "name": "python",
   "nbconvert_exporter": "python",
   "pygments_lexer": "ipython3",
   "version": "3.9.7"
  }
 },
 "nbformat": 4,
 "nbformat_minor": 1
}
